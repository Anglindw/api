{
 "cells": [
  {
   "cell_type": "markdown",
   "id": "7196054f",
   "metadata": {},
   "source": [
    "# Working with APIs"
   ]
  },
  {
   "cell_type": "markdown",
   "id": "0547b71e",
   "metadata": {},
   "source": [
    "API stands for Application programming interface<br>\n",
    "APIs are a way for applications to talk to eachother<br>\n",
    "In python we use the requests package to handle the connection<br>\n",
    "<small><strong>Note: It is requests with an s not request(this is a different package)</strong></small><br>\n",
    "Most API's communicate with data in the form of JSON<br>\n",
    "JSON stands for JavaScript Object Notation"
   ]
  },
  {
   "cell_type": "code",
   "execution_count": 11,
   "id": "4db9d154",
   "metadata": {},
   "outputs": [],
   "source": [
    "#import the packages we need:\n",
    "import requests"
   ]
  },
  {
   "cell_type": "markdown",
   "id": "e8c2ce51",
   "metadata": {},
   "source": [
    "We will be connecting to the Ergast F1 Racer API today:\n",
    "http://ergast.com/mrd/\n",
    "\n",
    "to view JSON data nicely in the Chrome browser install the extension JSONview"
   ]
  },
  {
   "cell_type": "code",
   "execution_count": 15,
   "id": "52c440c6",
   "metadata": {},
   "outputs": [],
   "source": [
    "# The API we're accessing\n",
    "# Make sure to attach extension .json at the end of url\n",
    "url = 'https://pokeapi.co/api/v2/pokemon/ditto'"
   ]
  },
  {
   "cell_type": "code",
   "execution_count": 16,
   "id": "f60c1b4a",
   "metadata": {},
   "outputs": [],
   "source": [
    "# using the request package to access data from api/url\n",
    "response = requests.get(url)"
   ]
  },
  {
   "cell_type": "code",
   "execution_count": 17,
   "id": "c6d1fdaf",
   "metadata": {},
   "outputs": [
    {
     "data": {
      "text/plain": [
       "True"
      ]
     },
     "execution_count": 17,
     "metadata": {},
     "output_type": "execute_result"
    }
   ],
   "source": [
    "#check and make sure we got a successful response from the API\n",
    "#response.status_code: 200 = Success, 400 = Failed\n",
    "#response.ok: True = Success, False = Failed\n",
    "response.status_code\n",
    "response.ok"
   ]
  },
  {
   "cell_type": "code",
   "execution_count": 22,
   "id": "ed4d3256",
   "metadata": {},
   "outputs": [],
   "source": [
    "#view the response as a JSON\n",
    "# response.json()"
   ]
  },
  {
   "cell_type": "code",
   "execution_count": 23,
   "id": "92e6cd2c",
   "metadata": {},
   "outputs": [
    {
     "data": {
      "text/plain": [
       "dict"
      ]
     },
     "execution_count": 23,
     "metadata": {},
     "output_type": "execute_result"
    }
   ],
   "source": [
    "# .json() is a dictionary type\n",
    "type(response.json())"
   ]
  },
  {
   "cell_type": "code",
   "execution_count": 20,
   "id": "f074dfcf",
   "metadata": {},
   "outputs": [
    {
     "name": "stdout",
     "output_type": "stream",
     "text": [
      "limber\n"
     ]
    }
   ],
   "source": [
    "# We only want the Driver Standings\n",
    "pokemon = response.json()['abilities'][0]['ability']['name']\n",
    "print(pokemon)\n",
    "# driver_standings_data"
   ]
  },
  {
   "cell_type": "code",
   "execution_count": 34,
   "id": "be46a950",
   "metadata": {},
   "outputs": [],
   "source": [
    "# Use a for loop to display all driver full names\n",
    "driver_standings_data[0]\n",
    "for driver in driver_standings_data:\n",
    "    print(driver['Driver']['givenName'], driver['Driver']['familyName'])"
   ]
  },
  {
   "cell_type": "code",
   "execution_count": 3,
   "id": "3740c752",
   "metadata": {},
   "outputs": [
    {
     "name": "stdout",
     "output_type": "stream",
     "text": [
      "---------- The F1 Racing Stats for the Year 2008 ----------\n"
     ]
    }
   ],
   "source": [
    "# Create a function getting certain driver info (givenName, familyName, dateOfBirth, wins, team)\n",
    "def get_driver_info(data):\n",
    "    new_driver_data = []\n",
    "    for driver in data:\n",
    "        driver_dict = {}\n",
    "        full_name = driver['Driver']['givenName'] + ' ' + driver['Driver']['familyName']\n",
    "        driver_key = full_name\n",
    "        driver_dict[driver_key] = {\n",
    "            'date_of_birth': driver['Driver']['dateOfBirth'],\n",
    "            'number_of_wins': driver['wins'],\n",
    "            'team': driver['Constructors'][0]['name']\n",
    "        }\n",
    "        new_driver_data.append(driver_dict)\n",
    "    print(new_driver_data)\n",
    "\n",
    "print('---------- The F1 Racing Stats for the Year 2008 ----------')\n",
    "# get_driver_info(driver_standings_data)"
   ]
  },
  {
   "cell_type": "code",
   "execution_count": 1,
   "id": "c0a568ef",
   "metadata": {},
   "outputs": [],
   "source": [
    "#Making a more flexible function to handle different years and rounds\n",
    "def get_driver_info_year_round(year, rnd):\n",
    "    url = f'http://ergast.com/api/f1/{year}/{rnd}/driverStandings.json'\n",
    "    response = requests.get(url)\n",
    "    if response.ok:\n",
    "        data = response.json()['MRData']['StandingsTable']['StandingsLists'][0]['DriverStandings']\n",
    "        return get_driver_info(data)\n",
    "    else:\n",
    "        return 'That year or round is invalid.'\n",
    "\n",
    "# get_driver_info_year_round(2020, 5)"
   ]
  },
  {
   "cell_type": "markdown",
   "id": "6d546014",
   "metadata": {},
   "source": [
    "# <strong>Homework</strong>\n",
    "check out this Pokemon API https://pokeapi.co/\n",
    "Use the requests package to connect to this API and get and store data for 5 different pokemon.\n",
    "Get the pokemons: name, atleast one ability's name, base_experience, and the URL for its sprite (an image that shows up on screen) for the 'front_shiny', attack base_stat, hp base_stat, defense base_stat"
   ]
  },
  {
   "cell_type": "code",
   "execution_count": 76,
   "id": "5a9081e3",
   "metadata": {},
   "outputs": [],
   "source": [
    "pokedex = {}\n",
    "def get_pokemonphys(poke):\n",
    "    url = f'https://pokeapi.co/api/v2/pokemon/{poke}'\n",
    "    response = requests.get(url)\n",
    "    dex = {}\n",
    "    if response.ok:\n",
    "        name = poke\n",
    "        ability = response.json()['abilities'][0]['ability']['name']\n",
    "        print(ability)\n",
    "        dex['ability'] = ability\n",
    "        base_exp = response.json()['base_experience']\n",
    "        print(base_exp)\n",
    "        dex['base experience'] = base_exp\n",
    "        sprite = response.json()['sprites']['front_default']\n",
    "        print(sprite)\n",
    "        dex['sprite'] = sprite\n",
    "        hp = response.json()['stats'][0]['base_stat']\n",
    "        attack = response.json()['stats'][1]['base_stat']\n",
    "        defense = response.json()['stats'][2]['base_stat']\n",
    "        speed = response.json()['stats'][5]['base_stat']\n",
    "        dex['HP'] = hp\n",
    "        dex['Attack'] = attack\n",
    "        dex['Defence'] = defense\n",
    "        dex['speed'] = speed\n",
    "        print(f'HP:{hp}, Attack:{attack}, Defense:{defense}, Speed:{speed}')\n",
    "    pokedex[poke] = dex\n",
    "def get_pokemonspec(poke):\n",
    "    url = f'https://pokeapi.co/api/v2/pokemon/{poke}'\n",
    "    response = requests.get(url)\n",
    "    dex = {}\n",
    "    if response.ok:\n",
    "        name = poke\n",
    "        ability = response.json()['abilities'][0]['ability']['name']\n",
    "        print(ability)\n",
    "        dex['ability'] = ability\n",
    "        base_exp = response.json()['base_experience']\n",
    "        print(base_exp)\n",
    "        dex['base experience'] = base_exp\n",
    "        sprite = response.json()['sprites']['front_default']\n",
    "        print(sprite)\n",
    "        dex['sprite'] = sprite\n",
    "        hp = response.json()['stats'][0]['base_stat']\n",
    "        attack = response.json()['stats'][3]['base_stat']\n",
    "        defense = response.json()['stats'][4]['base_stat']\n",
    "        speed = response.json()['stats'][5]['base_stat']\n",
    "        dex['HP'] = hp\n",
    "        dex['Speciel Attack'] = attack\n",
    "        dex['Defence'] = defense\n",
    "        dex['speed'] = speed\n",
    "        print(f'HP:{hp}, Special Attack:{attack}, Special Defense:{defense}, Speed:{speed}')\n",
    "    pokedex[poke] = dex"
   ]
  },
  {
   "cell_type": "code",
   "execution_count": 77,
   "id": "a6a4f619",
   "metadata": {},
   "outputs": [
    {
     "name": "stdout",
     "output_type": "stream",
     "text": [
      "poison-point\n",
      "253\n",
      "https://raw.githubusercontent.com/PokeAPI/sprites/master/sprites/pokemon/34.png\n",
      "HP:81, Attack:102, Defense:77, Speed:85\n"
     ]
    }
   ],
   "source": [
    "get_pokemonphys('nidoking')"
   ]
  },
  {
   "cell_type": "code",
   "execution_count": 78,
   "id": "9fffaca1",
   "metadata": {},
   "outputs": [
    {
     "name": "stdout",
     "output_type": "stream",
     "text": [
      "torrent\n",
      "268\n",
      "https://raw.githubusercontent.com/PokeAPI/sprites/master/sprites/pokemon/260.png\n",
      "HP:100, Attack:110, Defense:90, Speed:60\n"
     ]
    }
   ],
   "source": [
    "get_pokemonphys('swampert')"
   ]
  },
  {
   "cell_type": "code",
   "execution_count": 82,
   "id": "054f586c",
   "metadata": {},
   "outputs": [
    {
     "name": "stdout",
     "output_type": "stream",
     "text": [
      "{'nidoking': {'ability': 'poison-point', 'base experience': 253, 'sprite': 'https://raw.githubusercontent.com/PokeAPI/sprites/master/sprites/pokemon/34.png', 'HP': 81, 'Attack': 102, 'Defence': 77, 'speed': 85}, 'swampert': {'ability': 'torrent', 'base experience': 268, 'sprite': 'https://raw.githubusercontent.com/PokeAPI/sprites/master/sprites/pokemon/260.png', 'HP': 100, 'Attack': 110, 'Defence': 90, 'speed': 60}, 'incineroar': {'ability': 'blaze', 'base experience': 265, 'sprite': 'https://raw.githubusercontent.com/PokeAPI/sprites/master/sprites/pokemon/727.png', 'HP': 95, 'Attack': 115, 'Defence': 90, 'speed': 60}, 'naganadel': {'ability': 'beast-boost', 'base experience': 270, 'sprite': 'https://raw.githubusercontent.com/PokeAPI/sprites/master/sprites/pokemon/804.png', 'HP': 73, 'Speciel Attack': 127, 'Defence': 73, 'speed': 121}, 'dragonite': {'ability': 'inner-focus', 'base experience': 300, 'sprite': 'https://raw.githubusercontent.com/PokeAPI/sprites/master/sprites/pokemon/149.png', 'HP': 91, 'Attack': 134, 'Defence': 95, 'speed': 80}}\n"
     ]
    }
   ],
   "source": [
    "print(pokedex)"
   ]
  },
  {
   "cell_type": "code",
   "execution_count": 79,
   "id": "d2399017",
   "metadata": {},
   "outputs": [
    {
     "name": "stdout",
     "output_type": "stream",
     "text": [
      "blaze\n",
      "265\n",
      "https://raw.githubusercontent.com/PokeAPI/sprites/master/sprites/pokemon/727.png\n",
      "HP:95, Attack:115, Defense:90, Speed:60\n"
     ]
    }
   ],
   "source": [
    "get_pokemonphys('incineroar')"
   ]
  },
  {
   "cell_type": "code",
   "execution_count": 80,
   "id": "63120aae",
   "metadata": {},
   "outputs": [
    {
     "name": "stdout",
     "output_type": "stream",
     "text": [
      "beast-boost\n",
      "270\n",
      "https://raw.githubusercontent.com/PokeAPI/sprites/master/sprites/pokemon/804.png\n",
      "HP:73, Special Attack:127, Special Defense:73, Speed:121\n"
     ]
    }
   ],
   "source": [
    "get_pokemonspec('naganadel')"
   ]
  },
  {
   "cell_type": "code",
   "execution_count": 81,
   "id": "f08474ed",
   "metadata": {},
   "outputs": [
    {
     "name": "stdout",
     "output_type": "stream",
     "text": [
      "inner-focus\n",
      "300\n",
      "https://raw.githubusercontent.com/PokeAPI/sprites/master/sprites/pokemon/149.png\n",
      "HP:91, Attack:134, Defense:95, Speed:80\n"
     ]
    }
   ],
   "source": [
    "get_pokemonphys('dragonite')"
   ]
  },
  {
   "cell_type": "code",
   "execution_count": null,
   "id": "bca693a2",
   "metadata": {},
   "outputs": [],
   "source": []
  }
 ],
 "metadata": {
  "kernelspec": {
   "display_name": "Python 3 (ipykernel)",
   "language": "python",
   "name": "python3"
  },
  "language_info": {
   "codemirror_mode": {
    "name": "ipython",
    "version": 3
   },
   "file_extension": ".py",
   "mimetype": "text/x-python",
   "name": "python",
   "nbconvert_exporter": "python",
   "pygments_lexer": "ipython3",
   "version": "3.9.12"
  },
  "vscode": {
   "interpreter": {
    "hash": "aa82987a71ca0339a52998cd22613b0c002bda8349fa32a0cb67ceec3936a2bf"
   }
  }
 },
 "nbformat": 4,
 "nbformat_minor": 5
}
